{
 "cells": [
  {
   "cell_type": "code",
   "execution_count": null,
   "metadata": {
    "collapsed": false
   },
   "outputs": [],
   "source": [
    "# Import pyspark and set up SparkContext\n",
    "import pyspark\n",
    "sc = pyspark.SparkContext()"
   ]
  },
  {
   "cell_type": "code",
   "execution_count": null,
   "metadata": {
    "collapsed": false
   },
   "outputs": [],
   "source": [
    "# Create an rdd\n",
    "rdd = sc.parallelize([(x, x%3) for x in range(10)], 5)\n",
    "rdd.collect()"
   ]
  },
  {
   "cell_type": "code",
   "execution_count": null,
   "metadata": {
    "collapsed": false
   },
   "outputs": [],
   "source": [
    "# Flip the key-value pairs\n",
    "flipped = rdd.map(lambda (x,y): (y,x))\n",
    "flipped.collect()"
   ]
  },
  {
   "cell_type": "code",
   "execution_count": null,
   "metadata": {
    "collapsed": false
   },
   "outputs": [],
   "source": [
    "# Reduce\n",
    "flipped.reduceByKey(lambda x,y: x+y).collect()"
   ]
  },
  {
   "cell_type": "code",
   "execution_count": null,
   "metadata": {
    "collapsed": false
   },
   "outputs": [],
   "source": [
    "# textFile\n",
    "rdd2 = sc.textFile('link_text.txt')\n",
    "rdd2.take(10)"
   ]
  },
  {
   "cell_type": "code",
   "execution_count": null,
   "metadata": {
    "collapsed": false
   },
   "outputs": [],
   "source": [
    "# retrieve site names\n",
    "def get_site(iterator):\n",
    "    for link in iterator:\n",
    "        index = link.find(\"www.\")\n",
    "        end = link.find(\".com\")\n",
    "        if index > 0 and end > 0:\n",
    "            yield link[index + 4: end]\n",
    "\n",
    "def f(link):\n",
    "    index = link.find(\"www.\")\n",
    "    end = link.find(\".com\")\n",
    "    if index > 0 and end > 0:\n",
    "        return link[index + 4: end]\n",
    "\n",
    "site_rdd = rdd2.mapPartitionsWithIndex(lambda index, iterator: get_site(iterator))\n",
    "site_rdd.take(10)\n",
    "# what's the difference?\n",
    "site_rdd2 = rdd2.map(f)\n",
    "site_rdd2.take(10)"
   ]
  },
  {
   "cell_type": "code",
   "execution_count": null,
   "metadata": {
    "collapsed": false
   },
   "outputs": [],
   "source": [
    "# implement distinct\n",
    "class funRDD:\n",
    "    rdd = None\n",
    "    \n",
    "    def __init__(self, rdd):\n",
    "        self.rdd = rdd\n",
    "\n",
    "    def distinct(self):\n",
    "        \"\"\"\n",
    "        Return a new RDD containing the distinct elements in this RDD.\n",
    "\n",
    "        >>> sorted(sc.parallelize([1, 1, 2, 3]).distinct().collect())\n",
    "        [1, 2, 3]\n",
    "        \"\"\"\n",
    "        return self.rdd.map(lambda x: (x, None)) \\\n",
    "                       .reduceByKey(lambda x, y: None) \\\n",
    "                       .map(lambda (x,y): x)\n",
    "\n",
    "funRDD(site_rdd).distinct().collect() # retrieves distinct sites"
   ]
  },
  {
   "cell_type": "code",
   "execution_count": null,
   "metadata": {
    "collapsed": true
   },
   "outputs": [],
   "source": []
  }
 ],
 "metadata": {
  "kernelspec": {
   "display_name": "Python 2",
   "language": "python",
   "name": "python2"
  },
  "language_info": {
   "codemirror_mode": {
    "name": "ipython",
    "version": 2
   },
   "file_extension": ".py",
   "mimetype": "text/x-python",
   "name": "python",
   "nbconvert_exporter": "python",
   "pygments_lexer": "ipython2",
   "version": "2.7.11"
  }
 },
 "nbformat": 4,
 "nbformat_minor": 0
}
